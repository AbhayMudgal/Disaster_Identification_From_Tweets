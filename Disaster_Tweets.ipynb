{
  "nbformat": 4,
  "nbformat_minor": 0,
  "metadata": {
    "colab": {
      "name": "Disaster Tweets.ipynb",
      "provenance": [],
      "authorship_tag": "ABX9TyP0y8zo4VFf2JjUUz9K5/6H",
      "include_colab_link": true
    },
    "kernelspec": {
      "name": "python3",
      "display_name": "Python 3"
    },
    "language_info": {
      "name": "python"
    }
  },
  "cells": [
    {
      "cell_type": "markdown",
      "metadata": {
        "id": "view-in-github",
        "colab_type": "text"
      },
      "source": [
        "<a href=\"https://colab.research.google.com/github/AbhayMudgal/Disaster_Identification_From_Tweets/blob/main/Disaster_Tweets.ipynb\" target=\"_parent\"><img src=\"https://colab.research.google.com/assets/colab-badge.svg\" alt=\"Open In Colab\"/></a>"
      ]
    },
    {
      "cell_type": "code",
      "metadata": {
        "colab": {
          "base_uri": "https://localhost:8080/"
        },
        "id": "f0GZBLkfcYrp",
        "outputId": "6fb0ba02-ee44-4339-a0da-4b2962344637"
      },
      "source": [
        "! pip install kaggle"
      ],
      "execution_count": 1,
      "outputs": [
        {
          "output_type": "stream",
          "text": [
            "Requirement already satisfied: kaggle in /usr/local/lib/python3.7/dist-packages (1.5.12)\n",
            "Requirement already satisfied: python-slugify in /usr/local/lib/python3.7/dist-packages (from kaggle) (5.0.2)\n",
            "Requirement already satisfied: certifi in /usr/local/lib/python3.7/dist-packages (from kaggle) (2021.5.30)\n",
            "Requirement already satisfied: tqdm in /usr/local/lib/python3.7/dist-packages (from kaggle) (4.41.1)\n",
            "Requirement already satisfied: six>=1.10 in /usr/local/lib/python3.7/dist-packages (from kaggle) (1.15.0)\n",
            "Requirement already satisfied: requests in /usr/local/lib/python3.7/dist-packages (from kaggle) (2.23.0)\n",
            "Requirement already satisfied: urllib3 in /usr/local/lib/python3.7/dist-packages (from kaggle) (1.24.3)\n",
            "Requirement already satisfied: python-dateutil in /usr/local/lib/python3.7/dist-packages (from kaggle) (2.8.1)\n",
            "Requirement already satisfied: text-unidecode>=1.3 in /usr/local/lib/python3.7/dist-packages (from python-slugify->kaggle) (1.3)\n",
            "Requirement already satisfied: chardet<4,>=3.0.2 in /usr/local/lib/python3.7/dist-packages (from requests->kaggle) (3.0.4)\n",
            "Requirement already satisfied: idna<3,>=2.5 in /usr/local/lib/python3.7/dist-packages (from requests->kaggle) (2.10)\n"
          ],
          "name": "stdout"
        }
      ]
    },
    {
      "cell_type": "code",
      "metadata": {
        "id": "dMwAQXokcjZG"
      },
      "source": [
        "import os, json\n",
        "from os import makedirs, listdir\n",
        "import numpy as np\n",
        "import pandas as pd\n",
        "import matplotlib.pyplot as plt\n"
      ],
      "execution_count": 15,
      "outputs": []
    },
    {
      "cell_type": "code",
      "metadata": {
        "id": "z1jVii4fc4Ox"
      },
      "source": [
        "kaggle_json = {\"username\":\"abhay1010\",\"key\":\"4af3df22394b3bfc76ea750845f8b173\"}\n",
        "makedirs(\"/content/.kaggle/\", exist_ok = True)\n",
        "makedirs(\"/root/.kaggle/\", exist_ok = True)\n",
        "with open(\"/content/.kaggle/kaggle.json\", 'w') as file:\n",
        "  json.dump(kaggle_json, file)\n",
        "\n",
        "!cp \"/content/.kaggle/kaggle.json\" \"/root/.kaggle/kaggle.json\"\n",
        "!chmod 600 \"/content/.kaggle/kaggle.json\"\n",
        "!chmod 600 \"/root/.kaggle/kaggle.json\""
      ],
      "execution_count": 3,
      "outputs": []
    },
    {
      "cell_type": "code",
      "metadata": {
        "colab": {
          "base_uri": "https://localhost:8080/"
        },
        "id": "2KUtTA_edMRE",
        "outputId": "430f706f-8460-4bed-aa25-ff6c4dc985b2"
      },
      "source": [
        "! kaggle competitions download -c nlp-getting-started"
      ],
      "execution_count": 4,
      "outputs": [
        {
          "output_type": "stream",
          "text": [
            "Warning: Looks like you're using an outdated API Version, please consider updating (server 1.5.12 / client 1.5.4)\n",
            "Downloading sample_submission.csv to /content\n",
            "  0% 0.00/22.2k [00:00<?, ?B/s]\n",
            "100% 22.2k/22.2k [00:00<00:00, 21.3MB/s]\n",
            "Downloading test.csv to /content\n",
            "  0% 0.00/411k [00:00<?, ?B/s]\n",
            "100% 411k/411k [00:00<00:00, 58.4MB/s]\n",
            "Downloading train.csv to /content\n",
            "  0% 0.00/965k [00:00<?, ?B/s]\n",
            "100% 965k/965k [00:00<00:00, 63.2MB/s]\n"
          ],
          "name": "stdout"
        }
      ]
    },
    {
      "cell_type": "code",
      "metadata": {
        "colab": {
          "base_uri": "https://localhost:8080/",
          "height": 204
        },
        "id": "hvGSCzlidi8R",
        "outputId": "ac968f2d-2cab-4944-f6ca-895af0bab717"
      },
      "source": [
        "df = pd.read_csv(\"/content/train.csv\")\n",
        "df.head()"
      ],
      "execution_count": 68,
      "outputs": [
        {
          "output_type": "execute_result",
          "data": {
            "text/html": [
              "<div>\n",
              "<style scoped>\n",
              "    .dataframe tbody tr th:only-of-type {\n",
              "        vertical-align: middle;\n",
              "    }\n",
              "\n",
              "    .dataframe tbody tr th {\n",
              "        vertical-align: top;\n",
              "    }\n",
              "\n",
              "    .dataframe thead th {\n",
              "        text-align: right;\n",
              "    }\n",
              "</style>\n",
              "<table border=\"1\" class=\"dataframe\">\n",
              "  <thead>\n",
              "    <tr style=\"text-align: right;\">\n",
              "      <th></th>\n",
              "      <th>id</th>\n",
              "      <th>keyword</th>\n",
              "      <th>location</th>\n",
              "      <th>text</th>\n",
              "      <th>target</th>\n",
              "    </tr>\n",
              "  </thead>\n",
              "  <tbody>\n",
              "    <tr>\n",
              "      <th>0</th>\n",
              "      <td>1</td>\n",
              "      <td>NaN</td>\n",
              "      <td>NaN</td>\n",
              "      <td>Our Deeds are the Reason of this #earthquake M...</td>\n",
              "      <td>1</td>\n",
              "    </tr>\n",
              "    <tr>\n",
              "      <th>1</th>\n",
              "      <td>4</td>\n",
              "      <td>NaN</td>\n",
              "      <td>NaN</td>\n",
              "      <td>Forest fire near La Ronge Sask. Canada</td>\n",
              "      <td>1</td>\n",
              "    </tr>\n",
              "    <tr>\n",
              "      <th>2</th>\n",
              "      <td>5</td>\n",
              "      <td>NaN</td>\n",
              "      <td>NaN</td>\n",
              "      <td>All residents asked to 'shelter in place' are ...</td>\n",
              "      <td>1</td>\n",
              "    </tr>\n",
              "    <tr>\n",
              "      <th>3</th>\n",
              "      <td>6</td>\n",
              "      <td>NaN</td>\n",
              "      <td>NaN</td>\n",
              "      <td>13,000 people receive #wildfires evacuation or...</td>\n",
              "      <td>1</td>\n",
              "    </tr>\n",
              "    <tr>\n",
              "      <th>4</th>\n",
              "      <td>7</td>\n",
              "      <td>NaN</td>\n",
              "      <td>NaN</td>\n",
              "      <td>Just got sent this photo from Ruby #Alaska as ...</td>\n",
              "      <td>1</td>\n",
              "    </tr>\n",
              "  </tbody>\n",
              "</table>\n",
              "</div>"
            ],
            "text/plain": [
              "   id keyword  ...                                               text target\n",
              "0   1     NaN  ...  Our Deeds are the Reason of this #earthquake M...      1\n",
              "1   4     NaN  ...             Forest fire near La Ronge Sask. Canada      1\n",
              "2   5     NaN  ...  All residents asked to 'shelter in place' are ...      1\n",
              "3   6     NaN  ...  13,000 people receive #wildfires evacuation or...      1\n",
              "4   7     NaN  ...  Just got sent this photo from Ruby #Alaska as ...      1\n",
              "\n",
              "[5 rows x 5 columns]"
            ]
          },
          "metadata": {
            "tags": []
          },
          "execution_count": 68
        }
      ]
    },
    {
      "cell_type": "code",
      "metadata": {
        "id": "Q0IeWtOodvu5",
        "colab": {
          "base_uri": "https://localhost:8080/",
          "height": 435
        },
        "outputId": "e0b6bf48-1cad-46cb-b160-ef46fee8527a"
      },
      "source": [
        "print(df.shape)\n",
        "print(df.isna().sum())\n",
        "print(df.location.unique().shape)\n",
        "print(df.keyword.unique().shape)\n",
        "\n",
        "df.target.value_counts().plot(kind = 'barh')\n"
      ],
      "execution_count": 69,
      "outputs": [
        {
          "output_type": "stream",
          "text": [
            "(7613, 5)\n",
            "id             0\n",
            "keyword       61\n",
            "location    2533\n",
            "text           0\n",
            "target         0\n",
            "dtype: int64\n",
            "(3342,)\n",
            "(222,)\n"
          ],
          "name": "stdout"
        },
        {
          "output_type": "execute_result",
          "data": {
            "text/plain": [
              "<matplotlib.axes._subplots.AxesSubplot at 0x7f50ddd170d0>"
            ]
          },
          "metadata": {
            "tags": []
          },
          "execution_count": 69
        },
        {
          "output_type": "display_data",
          "data": {
            "image/png": "[encoded data removed]",
            "text/plain": [
              "<Figure size 432x288 with 1 Axes>"
            ]
          },
          "metadata": {
            "tags": [],
            "needs_background": "light"
          }
        }
      ]
    },
    {
      "cell_type": "code",
      "metadata": {
        "colab": {
          "base_uri": "https://localhost:8080/"
        },
        "id": "fO3G-u_F6MFm",
        "outputId": "80bfdecb-fe86-429e-be5a-b9739295c859"
      },
      "source": [
        "test_df = pd.read_csv(\"/content/test.csv\")\n",
        "print(test_df.shape)\n",
        "print(test_df.isna().sum())\n",
        "print(test_df.location.unique().shape)\n",
        "print(test_df.keyword.unique().shape)\n",
        "print(test_df.head())"
      ],
      "execution_count": 70,
      "outputs": [
        {
          "output_type": "stream",
          "text": [
            "(3263, 4)\n",
            "id             0\n",
            "keyword       26\n",
            "location    1105\n",
            "text           0\n",
            "dtype: int64\n",
            "(1603,)\n",
            "(222,)\n",
            "   id keyword location                                               text\n",
            "0   0     NaN      NaN                 Just happened a terrible car crash\n",
            "1   2     NaN      NaN  Heard about #earthquake is different cities, s...\n",
            "2   3     NaN      NaN  there is a forest fire at spot pond, geese are...\n",
            "3   9     NaN      NaN           Apocalypse lighting. #Spokane #wildfires\n",
            "4  11     NaN      NaN      Typhoon Soudelor kills 28 in China and Taiwan\n"
          ],
          "name": "stdout"
        }
      ]
    },
    {
      "cell_type": "code",
      "metadata": {
        "colab": {
          "base_uri": "https://localhost:8080/"
        },
        "id": "PX2uRl-UzyJc",
        "outputId": "f4261a6f-593f-4de3-ea3b-f442045212b3"
      },
      "source": [
        "data = df.iloc[:, 3:]\n",
        "test = test_df.iloc[:, 3]\n",
        "\n",
        "print(data.head(), '\\n') \n",
        "print(test.head())"
      ],
      "execution_count": 71,
      "outputs": [
        {
          "output_type": "stream",
          "text": [
            "                                                text  target\n",
            "0  Our Deeds are the Reason of this #earthquake M...       1\n",
            "1             Forest fire near La Ronge Sask. Canada       1\n",
            "2  All residents asked to 'shelter in place' are ...       1\n",
            "3  13,000 people receive #wildfires evacuation or...       1\n",
            "4  Just got sent this photo from Ruby #Alaska as ...       1 \n",
            "\n",
            "0                   Just happened a terrible car crash\n",
            "1    Heard about #earthquake is different cities, s...\n",
            "2    there is a forest fire at spot pond, geese are...\n",
            "3             Apocalypse lighting. #Spokane #wildfires\n",
            "4        Typhoon Soudelor kills 28 in China and Taiwan\n",
            "Name: text, dtype: object\n"
          ],
          "name": "stdout"
        }
      ]
    },
    {
      "cell_type": "code",
      "metadata": {
        "id": "GDWEvW-r7n5Q"
      },
      "source": [
        "X = data.text.to_list()\n",
        "Y = data.target.to_list()\n",
        "X_test = test.to_list()"
      ],
      "execution_count": 72,
      "outputs": []
    },
    {
      "cell_type": "code",
      "metadata": {
        "id": "t_X3T3y19A0m"
      },
      "source": [
        "import tensorflow as tf\n",
        "from tensorflow import keras as k\n",
        "from keras.preprocessing.text import Tokenizer\n",
        "from keras.preprocessing.sequence import pad_sequences\n",
        "from tensorflow.keras.utils import to_categorical\n",
        "from keras.layers import Embedding, GlobalAveragePooling1D, Dense\n",
        "from sklearn.model_selection import train_test_split"
      ],
      "execution_count": 73,
      "outputs": []
    },
    {
      "cell_type": "code",
      "metadata": {
        "colab": {
          "base_uri": "https://localhost:8080/"
        },
        "id": "i9gvQSbQ4kzu",
        "outputId": "2cfdc8c3-800a-41d7-e3aa-eb588c3478f2"
      },
      "source": [
        "max_len = 0\n",
        "\n",
        "total = ''\n",
        "for line in X:\n",
        "  total = total + line\n",
        "  if len(line)>max_len:\n",
        "    max_len = len(line)\n",
        "\n",
        "print(max_len)\n",
        "words = total.split()\n",
        "words = set(words)\n",
        "print(\"Number of unique words in the data: \", len(words))\n"
      ],
      "execution_count": 74,
      "outputs": [
        {
          "output_type": "stream",
          "text": [
            "157\n",
            "Number of unique words in the data:  31559\n"
          ],
          "name": "stdout"
        }
      ]
    },
    {
      "cell_type": "code",
      "metadata": {
        "id": "5HPiEqe4__6Y"
      },
      "source": [
        "Vocab = 50000\n",
        "oov = '<oov>'\n",
        "embedding = 32\n",
        "padding = 'post'\n",
        "truncate = 'post'\n",
        "max = max_len"
      ],
      "execution_count": 62,
      "outputs": []
    },
    {
      "cell_type": "code",
      "metadata": {
        "id": "jlPIyHOBAZXy"
      },
      "source": [
        "X_train, X_val, Y_train, Y_val = train_test_split(X, Y, test_size = 0.2, random_state = 1)\n",
        "\n",
        "tokenizer = Tokenizer(num_words = Vocab, oov_token = oov)\n",
        "tokenizer.fit_on_texts(X_train)\n",
        "word_index = tokenizer.word_index\n",
        "\n",
        "X_train = tokenizer.texts_to_sequences(X_train)\n",
        "X_train_pad = pad_sequences(X_train, maxlen=max, padding = padding, truncating = truncate)\n",
        "\n",
        "X_val = tokenizer.texts_to_sequences(X_val)\n",
        "X_val_pad = pad_sequences(X_val, maxlen=max, padding = padding, truncating = truncate)\n",
        "\n",
        "X_test = tokenizer.texts_to_sequences(X_test)\n",
        "X_test_pad = pad_sequences(X_test, maxlen=max, padding = padding, truncating = truncate)\n",
        "\n",
        "Y_train = np.array(Y_train)\n",
        "Y_val =np.array(Y_val)"
      ],
      "execution_count": 75,
      "outputs": []
    },
    {
      "cell_type": "code",
      "metadata": {
        "colab": {
          "base_uri": "https://localhost:8080/"
        },
        "id": "oaAaceZQFj_D",
        "outputId": "9c172d32-56d4-41dc-ce4f-79722b2506e9"
      },
      "source": [
        "model = k.Sequential([\n",
        "                      k.layers.Embedding(Vocab, embedding, input_shape=(max_len,)),\n",
        "                      k.layers.GlobalAveragePooling1D(),\n",
        "                      k.layers.Dense(32, activation = 'relu'),\n",
        "                      k.layers.Dense(8, activation='relu'),\n",
        "                      k.layers.Dense(1, activation = 'sigmoid')\n",
        "])\n",
        "model.compile(loss='binary_crossentropy',optimizer='adam',metrics=['accuracy'])\n",
        "model.summary()"
      ],
      "execution_count": 76,
      "outputs": [
        {
          "output_type": "stream",
          "text": [
            "Model: \"sequential\"\n",
            "_________________________________________________________________\n",
            "Layer (type)                 Output Shape              Param #   \n",
            "=================================================================\n",
            "embedding (Embedding)        (None, 157, 32)           1600000   \n",
            "_________________________________________________________________\n",
            "global_average_pooling1d (Gl (None, 32)                0         \n",
            "_________________________________________________________________\n",
            "dense (Dense)                (None, 32)                1056      \n",
            "_________________________________________________________________\n",
            "dense_1 (Dense)              (None, 8)                 264       \n",
            "_________________________________________________________________\n",
            "dense_2 (Dense)              (None, 1)                 9         \n",
            "=================================================================\n",
            "Total params: 1,601,329\n",
            "Trainable params: 1,601,329\n",
            "Non-trainable params: 0\n",
            "_________________________________________________________________\n"
          ],
          "name": "stdout"
        }
      ]
    },
    {
      "cell_type": "code",
      "metadata": {
        "colab": {
          "base_uri": "https://localhost:8080/"
        },
        "id": "2ERX6TEoGH43",
        "outputId": "b3bb22e5-b5c3-47c8-a706-b5003076886e"
      },
      "source": [
        "model_check = tf.keras.callbacks.ModelCheckpoint('model.h5',save_best_only = True)\n",
        "model.fit(X_train_pad, Y_train, epochs = 20, validation_data=(X_val_pad, Y_val), callbacks=[model_check])"
      ],
      "execution_count": 66,
      "outputs": [
        {
          "output_type": "stream",
          "text": [
            "Epoch 1/20\n",
            "191/191 [==============================] - 9s 44ms/step - loss: 0.6821 - accuracy: 0.5681 - val_loss: 0.6741 - val_accuracy: 0.5791\n",
            "Epoch 2/20\n",
            "191/191 [==============================] - 10s 52ms/step - loss: 0.6532 - accuracy: 0.6067 - val_loss: 0.6001 - val_accuracy: 0.7269\n",
            "Epoch 3/20\n",
            "191/191 [==============================] - 9s 48ms/step - loss: 0.5009 - accuracy: 0.7901 - val_loss: 0.4690 - val_accuracy: 0.7800\n",
            "Epoch 4/20\n",
            "191/191 [==============================] - 9s 46ms/step - loss: 0.3494 - accuracy: 0.8662 - val_loss: 0.4809 - val_accuracy: 0.7971\n",
            "Epoch 5/20\n",
            "191/191 [==============================] - 7s 34ms/step - loss: 0.2601 - accuracy: 0.9041 - val_loss: 0.4450 - val_accuracy: 0.8037\n",
            "Epoch 6/20\n",
            "191/191 [==============================] - 7s 36ms/step - loss: 0.2000 - accuracy: 0.9286 - val_loss: 0.4667 - val_accuracy: 0.8070\n",
            "Epoch 7/20\n",
            "191/191 [==============================] - 9s 46ms/step - loss: 0.1512 - accuracy: 0.9504 - val_loss: 0.4963 - val_accuracy: 0.7978\n",
            "Epoch 8/20\n",
            "191/191 [==============================] - 8s 40ms/step - loss: 0.1177 - accuracy: 0.9608 - val_loss: 0.5240 - val_accuracy: 0.7965\n",
            "Epoch 9/20\n",
            "191/191 [==============================] - 8s 43ms/step - loss: 0.0899 - accuracy: 0.9698 - val_loss: 0.5690 - val_accuracy: 0.7958\n",
            "Epoch 10/20\n",
            "191/191 [==============================] - 9s 47ms/step - loss: 0.0712 - accuracy: 0.9788 - val_loss: 0.5939 - val_accuracy: 0.7905\n",
            "Epoch 11/20\n",
            "191/191 [==============================] - 9s 46ms/step - loss: 0.0551 - accuracy: 0.9847 - val_loss: 0.6241 - val_accuracy: 0.7748\n",
            "Epoch 12/20\n",
            "191/191 [==============================] - 9s 47ms/step - loss: 0.0426 - accuracy: 0.9872 - val_loss: 0.6694 - val_accuracy: 0.7669\n",
            "Epoch 13/20\n",
            "191/191 [==============================] - 9s 47ms/step - loss: 0.0398 - accuracy: 0.9880 - val_loss: 0.7060 - val_accuracy: 0.7623\n",
            "Epoch 14/20\n",
            "191/191 [==============================] - 9s 48ms/step - loss: 0.0303 - accuracy: 0.9915 - val_loss: 0.7434 - val_accuracy: 0.7807\n",
            "Epoch 15/20\n",
            "191/191 [==============================] - 10s 50ms/step - loss: 0.0270 - accuracy: 0.9918 - val_loss: 0.7646 - val_accuracy: 0.7610\n",
            "Epoch 16/20\n",
            "191/191 [==============================] - 9s 47ms/step - loss: 0.0263 - accuracy: 0.9924 - val_loss: 0.8068 - val_accuracy: 0.7564\n",
            "Epoch 17/20\n",
            "191/191 [==============================] - 8s 43ms/step - loss: 0.0197 - accuracy: 0.9949 - val_loss: 0.8377 - val_accuracy: 0.7557\n",
            "Epoch 18/20\n",
            "191/191 [==============================] - 8s 43ms/step - loss: 0.0232 - accuracy: 0.9916 - val_loss: 0.8424 - val_accuracy: 0.7741\n",
            "Epoch 19/20\n",
            "191/191 [==============================] - 8s 42ms/step - loss: 0.0184 - accuracy: 0.9946 - val_loss: 0.8712 - val_accuracy: 0.7597\n",
            "Epoch 20/20\n",
            "191/191 [==============================] - 9s 45ms/step - loss: 0.0192 - accuracy: 0.9941 - val_loss: 0.9556 - val_accuracy: 0.7367\n"
          ],
          "name": "stdout"
        },
        {
          "output_type": "execute_result",
          "data": {
            "text/plain": [
              "<tensorflow.python.keras.callbacks.History at 0x7f50ddffa290>"
            ]
          },
          "metadata": {
            "tags": []
          },
          "execution_count": 66
        }
      ]
    },
    {
      "cell_type": "code",
      "metadata": {
        "colab": {
          "base_uri": "https://localhost:8080/"
        },
        "id": "1D0F6xVGIRzd",
        "outputId": "b6b4fe2a-15a4-476b-ebd2-503df1ebdda1"
      },
      "source": [
        "#model = tf.keras.backend.clear_session()\n",
        "vocab = 120000\n",
        "oov = '<OOV>'\n",
        "embedding = 32\n",
        "padding = 'post'\n",
        "truncate = 'post'\n",
        "max = max_len\n",
        "\n",
        "tokenizer = Tokenizer(num_words = vocab, oov_token=oov)\n",
        "tokenizer.fit_on_texts(X)\n",
        "word_index = tokenizer.word_index\n",
        "X = tokenizer.texts_to_sequences(X)\n",
        "X_pad = pad_sequences(X, maxlen = max, padding = padding, truncating=truncate)\n",
        "\n",
        "Y = np.array(Y)\n",
        "\n",
        "epochs = 10\n",
        "\n",
        "\n",
        "model_check = tf.keras.callbacks.ModelCheckpoint('model.h5',save_best_only = True)\n",
        "model.fit(X_pad, Y, epochs = epochs, callbacks=[model_check])\n",
        "\n"
      ],
      "execution_count": 77,
      "outputs": [
        {
          "output_type": "stream",
          "text": [
            "Epoch 1/10\n",
            "238/238 [==============================] - 6s 21ms/step - loss: 0.6855 - accuracy: 0.5650\n",
            "WARNING:tensorflow:Can save best model only with val_loss available, skipping.\n",
            "Epoch 2/10\n",
            "238/238 [==============================] - 4s 18ms/step - loss: 0.6642 - accuracy: 0.5856\n",
            "WARNING:tensorflow:Can save best model only with val_loss available, skipping.\n",
            "Epoch 3/10\n",
            "238/238 [==============================] - 5s 21ms/step - loss: 0.5131 - accuracy: 0.7722\n",
            "WARNING:tensorflow:Can save best model only with val_loss available, skipping.\n",
            "Epoch 4/10\n",
            "238/238 [==============================] - 4s 19ms/step - loss: 0.3809 - accuracy: 0.8434\n",
            "WARNING:tensorflow:Can save best model only with val_loss available, skipping.\n",
            "Epoch 5/10\n",
            "238/238 [==============================] - 4s 18ms/step - loss: 0.3003 - accuracy: 0.8857\n",
            "WARNING:tensorflow:Can save best model only with val_loss available, skipping.\n",
            "Epoch 6/10\n",
            "238/238 [==============================] - 4s 18ms/step - loss: 0.2383 - accuracy: 0.9111\n",
            "WARNING:tensorflow:Can save best model only with val_loss available, skipping.\n",
            "Epoch 7/10\n",
            "238/238 [==============================] - 5s 20ms/step - loss: 0.1934 - accuracy: 0.9297\n",
            "WARNING:tensorflow:Can save best model only with val_loss available, skipping.\n",
            "Epoch 8/10\n",
            "238/238 [==============================] - 5s 20ms/step - loss: 0.1552 - accuracy: 0.9467\n",
            "WARNING:tensorflow:Can save best model only with val_loss available, skipping.\n",
            "Epoch 9/10\n",
            "238/238 [==============================] - 5s 21ms/step - loss: 0.1299 - accuracy: 0.9551\n",
            "WARNING:tensorflow:Can save best model only with val_loss available, skipping.\n",
            "Epoch 10/10\n",
            "238/238 [==============================] - 5s 20ms/step - loss: 0.1015 - accuracy: 0.9670\n",
            "WARNING:tensorflow:Can save best model only with val_loss available, skipping.\n"
          ],
          "name": "stdout"
        },
        {
          "output_type": "stream",
          "text": [
            "Exception ignored in: <function IteratorResourceDeleter.__del__ at 0x7f50fab9cb00>\n",
            "Traceback (most recent call last):\n",
            "  File \"/usr/local/lib/python3.7/dist-packages/tensorflow/python/data/ops/iterator_ops.py\", line 546, in __del__\n",
            "    handle=self._handle, deleter=self._deleter)\n",
            "  File \"/usr/local/lib/python3.7/dist-packages/tensorflow/python/ops/gen_dataset_ops.py\", line 1264, in delete_iterator\n",
            "    _ctx, \"DeleteIterator\", name, handle, deleter)\n",
            "KeyboardInterrupt: \n"
          ],
          "name": "stderr"
        },
        {
          "output_type": "execute_result",
          "data": {
            "text/plain": [
              "<tensorflow.python.keras.callbacks.History at 0x7f50d9722e90>"
            ]
          },
          "metadata": {
            "tags": []
          },
          "execution_count": 77
        }
      ]
    },
    {
      "cell_type": "code",
      "metadata": {
        "id": "9dKSwl2zLQut"
      },
      "source": [
        "predictions = model.predict(X_test_pad)\n",
        "\n",
        "pred = []\n",
        "for i in range(0,len(predictions)):\n",
        "    if predictions[i][0]>0.5:\n",
        "        pred.append(1)\n",
        "    else:\n",
        "        pred.append(0)\n",
        "\n",
        "test_df['target'] = pd.Series(pred)"
      ],
      "execution_count": 87,
      "outputs": []
    },
    {
      "cell_type": "code",
      "metadata": {
        "colab": {
          "base_uri": "https://localhost:8080/",
          "height": 204
        },
        "id": "sstwsRGmMY3M",
        "outputId": "d66e03f1-2909-4b18-fa0a-f4411ae24501"
      },
      "source": [
        "test_df.head()"
      ],
      "execution_count": 89,
      "outputs": [
        {
          "output_type": "execute_result",
          "data": {
            "text/html": [
              "<div>\n",
              "<style scoped>\n",
              "    .dataframe tbody tr th:only-of-type {\n",
              "        vertical-align: middle;\n",
              "    }\n",
              "\n",
              "    .dataframe tbody tr th {\n",
              "        vertical-align: top;\n",
              "    }\n",
              "\n",
              "    .dataframe thead th {\n",
              "        text-align: right;\n",
              "    }\n",
              "</style>\n",
              "<table border=\"1\" class=\"dataframe\">\n",
              "  <thead>\n",
              "    <tr style=\"text-align: right;\">\n",
              "      <th></th>\n",
              "      <th>id</th>\n",
              "      <th>keyword</th>\n",
              "      <th>location</th>\n",
              "      <th>text</th>\n",
              "      <th>target</th>\n",
              "    </tr>\n",
              "  </thead>\n",
              "  <tbody>\n",
              "    <tr>\n",
              "      <th>0</th>\n",
              "      <td>0</td>\n",
              "      <td>NaN</td>\n",
              "      <td>NaN</td>\n",
              "      <td>Just happened a terrible car crash</td>\n",
              "      <td>0</td>\n",
              "    </tr>\n",
              "    <tr>\n",
              "      <th>1</th>\n",
              "      <td>2</td>\n",
              "      <td>NaN</td>\n",
              "      <td>NaN</td>\n",
              "      <td>Heard about #earthquake is different cities, s...</td>\n",
              "      <td>0</td>\n",
              "    </tr>\n",
              "    <tr>\n",
              "      <th>2</th>\n",
              "      <td>3</td>\n",
              "      <td>NaN</td>\n",
              "      <td>NaN</td>\n",
              "      <td>there is a forest fire at spot pond, geese are...</td>\n",
              "      <td>1</td>\n",
              "    </tr>\n",
              "    <tr>\n",
              "      <th>3</th>\n",
              "      <td>9</td>\n",
              "      <td>NaN</td>\n",
              "      <td>NaN</td>\n",
              "      <td>Apocalypse lighting. #Spokane #wildfires</td>\n",
              "      <td>0</td>\n",
              "    </tr>\n",
              "    <tr>\n",
              "      <th>4</th>\n",
              "      <td>11</td>\n",
              "      <td>NaN</td>\n",
              "      <td>NaN</td>\n",
              "      <td>Typhoon Soudelor kills 28 in China and Taiwan</td>\n",
              "      <td>1</td>\n",
              "    </tr>\n",
              "  </tbody>\n",
              "</table>\n",
              "</div>"
            ],
            "text/plain": [
              "   id keyword  ...                                               text target\n",
              "0   0     NaN  ...                 Just happened a terrible car crash      0\n",
              "1   2     NaN  ...  Heard about #earthquake is different cities, s...      0\n",
              "2   3     NaN  ...  there is a forest fire at spot pond, geese are...      1\n",
              "3   9     NaN  ...           Apocalypse lighting. #Spokane #wildfires      0\n",
              "4  11     NaN  ...      Typhoon Soudelor kills 28 in China and Taiwan      1\n",
              "\n",
              "[5 rows x 5 columns]"
            ]
          },
          "metadata": {
            "tags": []
          },
          "execution_count": 89
        }
      ]
    },
    {
      "cell_type": "code",
      "metadata": {
        "id": "6RWrOLNeLo5f"
      },
      "source": [
        "submission = pd.DataFrame()\n",
        "submission['id'] = test_df['id']\n",
        "submission['target'] = test_df['target']\n",
        "\n",
        "submission.to_csv(\"submitssion.csv\", index = False)"
      ],
      "execution_count": 90,
      "outputs": []
    }
  ]
}